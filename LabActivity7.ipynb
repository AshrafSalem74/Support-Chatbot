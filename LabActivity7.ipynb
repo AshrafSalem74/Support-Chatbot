{
 "cells": [
  {
   "cell_type": "code",
   "execution_count": 1,
   "id": "a79dbc24-ac00-417c-ad9b-d1b7a2a03652",
   "metadata": {},
   "outputs": [
    {
     "name": "stdout",
     "output_type": "stream",
     "text": [
      "Collecting mistralai\n",
      "  Downloading mistralai-1.5.0-py3-none-any.whl.metadata (29 kB)\n",
      "Collecting eval-type-backport>=0.2.0 (from mistralai)\n",
      "  Downloading eval_type_backport-0.2.2-py3-none-any.whl.metadata (2.2 kB)\n",
      "Requirement already satisfied: httpx>=0.27.0 in c:\\users\\salem\\anaconda3\\lib\\site-packages (from mistralai) (0.27.0)\n",
      "Collecting jsonpath-python>=1.0.6 (from mistralai)\n",
      "  Downloading jsonpath_python-1.0.6-py3-none-any.whl.metadata (12 kB)\n",
      "Collecting pydantic>=2.9.0 (from mistralai)\n",
      "  Downloading pydantic-2.10.6-py3-none-any.whl.metadata (30 kB)\n",
      "Requirement already satisfied: python-dateutil>=2.8.2 in c:\\users\\salem\\anaconda3\\lib\\site-packages (from mistralai) (2.9.0.post0)\n",
      "Collecting typing-inspect>=0.9.0 (from mistralai)\n",
      "  Downloading typing_inspect-0.9.0-py3-none-any.whl.metadata (1.5 kB)\n",
      "Requirement already satisfied: anyio in c:\\users\\salem\\anaconda3\\lib\\site-packages (from httpx>=0.27.0->mistralai) (4.2.0)\n",
      "Requirement already satisfied: certifi in c:\\users\\salem\\anaconda3\\lib\\site-packages (from httpx>=0.27.0->mistralai) (2024.8.30)\n",
      "Requirement already satisfied: httpcore==1.* in c:\\users\\salem\\anaconda3\\lib\\site-packages (from httpx>=0.27.0->mistralai) (1.0.2)\n",
      "Requirement already satisfied: idna in c:\\users\\salem\\anaconda3\\lib\\site-packages (from httpx>=0.27.0->mistralai) (3.7)\n",
      "Requirement already satisfied: sniffio in c:\\users\\salem\\anaconda3\\lib\\site-packages (from httpx>=0.27.0->mistralai) (1.3.0)\n",
      "Requirement already satisfied: h11<0.15,>=0.13 in c:\\users\\salem\\anaconda3\\lib\\site-packages (from httpcore==1.*->httpx>=0.27.0->mistralai) (0.14.0)\n",
      "Requirement already satisfied: annotated-types>=0.6.0 in c:\\users\\salem\\anaconda3\\lib\\site-packages (from pydantic>=2.9.0->mistralai) (0.6.0)\n",
      "Collecting pydantic-core==2.27.2 (from pydantic>=2.9.0->mistralai)\n",
      "  Downloading pydantic_core-2.27.2-cp312-cp312-win_amd64.whl.metadata (6.7 kB)\n",
      "Collecting typing-extensions>=4.12.2 (from pydantic>=2.9.0->mistralai)\n",
      "  Downloading typing_extensions-4.12.2-py3-none-any.whl.metadata (3.0 kB)\n",
      "Requirement already satisfied: six>=1.5 in c:\\users\\salem\\anaconda3\\lib\\site-packages (from python-dateutil>=2.8.2->mistralai) (1.16.0)\n",
      "Requirement already satisfied: mypy-extensions>=0.3.0 in c:\\users\\salem\\anaconda3\\lib\\site-packages (from typing-inspect>=0.9.0->mistralai) (1.0.0)\n",
      "Downloading mistralai-1.5.0-py3-none-any.whl (271 kB)\n",
      "Downloading eval_type_backport-0.2.2-py3-none-any.whl (5.8 kB)\n",
      "Downloading jsonpath_python-1.0.6-py3-none-any.whl (7.6 kB)\n",
      "Downloading pydantic-2.10.6-py3-none-any.whl (431 kB)\n",
      "Downloading pydantic_core-2.27.2-cp312-cp312-win_amd64.whl (2.0 MB)\n",
      "   ---------------------------------------- 0.0/2.0 MB ? eta -:--:--\n",
      "   --------------- ------------------------ 0.8/2.0 MB 6.7 MB/s eta 0:00:01\n",
      "   ---------------------------------------- 2.0/2.0 MB 6.9 MB/s eta 0:00:00\n",
      "Downloading typing_inspect-0.9.0-py3-none-any.whl (8.8 kB)\n",
      "Downloading typing_extensions-4.12.2-py3-none-any.whl (37 kB)\n",
      "Installing collected packages: typing-extensions, jsonpath-python, eval-type-backport, typing-inspect, pydantic-core, pydantic, mistralai\n",
      "  Attempting uninstall: typing-extensions\n",
      "    Found existing installation: typing_extensions 4.11.0\n",
      "    Uninstalling typing_extensions-4.11.0:\n",
      "      Successfully uninstalled typing_extensions-4.11.0\n",
      "  Attempting uninstall: pydantic-core\n",
      "    Found existing installation: pydantic_core 2.20.1\n",
      "    Uninstalling pydantic_core-2.20.1:\n",
      "      Successfully uninstalled pydantic_core-2.20.1\n",
      "  Attempting uninstall: pydantic\n",
      "    Found existing installation: pydantic 2.8.2\n",
      "    Uninstalling pydantic-2.8.2:\n",
      "      Successfully uninstalled pydantic-2.8.2\n",
      "Successfully installed eval-type-backport-0.2.2 jsonpath-python-1.0.6 mistralai-1.5.0 pydantic-2.10.6 pydantic-core-2.27.2 typing-extensions-4.12.2 typing-inspect-0.9.0\n"
     ]
    },
    {
     "name": "stderr",
     "output_type": "stream",
     "text": [
      "ERROR: Could not open requirements file: [Errno 2] No such file or directory: 'requirements.txt'\n"
     ]
    }
   ],
   "source": [
    "!pip install mistralai\n",
    "!pip install -r requirements.txt"
   ]
  },
  {
   "cell_type": "code",
   "execution_count": 3,
   "id": "9cbe7d31-f5b5-4f24-9474-f6ce69e2e73a",
   "metadata": {},
   "outputs": [
    {
     "name": "stdout",
     "output_type": "stream",
     "text": [
      "MISTRAL_API_KEY: tlcYsUNSS1iVHZ6lWnUw8KKW2f8AoVJf\n"
     ]
    }
   ],
   "source": [
    "import os\n",
    "os.environ[\"MISTRAL_API_KEY\"] = \"tlcYsUNSS1iVHZ6lWnUw8KKW2f8AoVJf\"\n",
    "print(f\"MISTRAL_API_KEY: {os.environ.get('MISTRAL_API_KEY')}\")"
   ]
  },
  {
   "cell_type": "code",
   "execution_count": 5,
   "id": "0f972510-503a-4b5c-babf-5f12ad85a87a",
   "metadata": {},
   "outputs": [],
   "source": [
    " api_key = os.getenv(\"MISTRAL_API_KEY\")"
   ]
  },
  {
   "cell_type": "code",
   "execution_count": 9,
   "id": "075e4d48-d00a-4bef-b799-968aa3fdc9c7",
   "metadata": {},
   "outputs": [],
   "source": [
    "import os\n",
    "from mistralai import Mistral, UserMessage\n",
    "def mistral(user_message, model=\"mistral-small-latest\", is_json=False):\n",
    "    model = \"mistral-large-latest\"\n",
    "    client = Mistral(api_key=api_key)\n",
    "    messages = [\n",
    "        UserMessage(content=user_message),\n",
    "    ]\n",
    "    chat_response = client.chat.complete(\n",
    "        model=model,\n",
    "        messages=messages,\n",
    "    )\n",
    "    return chat_response.choices[0].message.content"
   ]
  },
  {
   "cell_type": "code",
   "execution_count": 11,
   "id": "a52b60ab-0832-4f98-9e4a-82b30a0601ef",
   "metadata": {},
   "outputs": [
    {
     "data": {
      "text/plain": [
       "\"Hello! I can assist with a wide range of tasks and provide information on various topics. Here are some examples of what I can do:\\n\\n1. **Answer Questions**: I can provide information on a broad range of subjects, from general knowledge to specific queries.\\n2. **Provide Advice**: Whether it's career advice, study tips, or relationship guidance, I can offer suggestions.\\n3. **Language Translation**: I can translate text between many languages.\\n4. **Help with Writing**: I can assist with writing essays, reports, emails, and more.\\n5. **Summarize Text**: I can summarize long articles or documents.\\n6. **Explain Concepts**: I can explain complex topics in a simpler way.\\n7. **Recommendations**: I can recommend books, movies, recipes, and more.\\n8. **Trivia and Fun Facts**: I can share interesting trivia and fun facts.\\n9. **Brainstorm Ideas**: I can help brainstorm ideas for projects, stories, and more.\\n10. **Basic Coding Help**: I can assist with simple coding questions and debugging.\""
      ]
     },
     "execution_count": 11,
     "metadata": {},
     "output_type": "execute_result"
    }
   ],
   "source": [
    "mistral(\"hello, what can you do?\")"
   ]
  },
  {
   "cell_type": "code",
   "execution_count": 13,
   "id": "f1d31571-0de2-460d-86e2-ae9fad3bc0e8",
   "metadata": {},
   "outputs": [],
   "source": [
    "prompt = \"\"\"\n",
    "You are a bank customer service bot.\n",
    "Your task is to assess customer intent and categorize customer\n",
    "inquiry after <<<>>> into one of the following predefined categories:\n",
    "card arrival\n",
    "change pin\n",
    "exchange rate\n",
    "country support\n",
    "cancel transfer\n",
    "charge dispute\n",
    "If the text doesn't fit into any of the above categories,\n",
    "classify it as:\n",
    "customer service\n",
    "You will only respond with the predefined category.\n",
    "Do not provide explanations or notes.\n",
    "###\n",
    "Here are some examples:\n",
    "Inquiry: How do I know if I will get my card, or if it is lost? I am concerned about the delivery process and would like to ensure that I will receive my ca\n",
    "Category: card arrival\n",
    "Inquiry: I am planning an international trip to Paris and would like to inquire about the current exchange rates for Euros as well as any associated fees fo\n",
    "Category: exchange rate\n",
    "Inquiry: What countries are getting support? I will be traveling and living abroad for an extended period of time, specifically in France and Germany, and w\n",
    "Category: country support\n",
    "Inquiry: Can I get help starting my computer? I am having difficulty starting my computer, and would appreciate your expertise in helping me troubleshoot th\n",
    "Category: customer service\n",
    "###\n",
    "<<<\n",
    "Inquiry: {inquiry}\n",
    ">>>\n",
    "Category:\n",
    "\"\"\""
   ]
  },
  {
   "cell_type": "code",
   "execution_count": 15,
   "id": "e026454f-9014-4c68-a28c-168cc6152a18",
   "metadata": {},
   "outputs": [],
   "source": [
    "response = mistral(f\"Please correct the spelling and grammar of \\\n",
    "this prompt and return a text that is the same prompt,\\\n",
    "with the spelling and grammar fixed: {prompt}\")"
   ]
  },
  {
   "cell_type": "code",
   "execution_count": 17,
   "id": "18209d87-4964-4dd8-9336-88f5d320591e",
   "metadata": {},
   "outputs": [
    {
     "name": "stdout",
     "output_type": "stream",
     "text": [
      "Here is the corrected text:\n",
      "\n",
      "You are a bank customer service bot. Your task is to assess customer intent and categorize the customer inquiry after <<<>>> into one of the following predefined categories:\n",
      "- card arrival\n",
      "- change pin\n",
      "- exchange rate\n",
      "- country support\n",
      "- cancel transfer\n",
      "- charge dispute\n",
      "\n",
      "If the text doesn't fit into any of the above categories, classify it as:\n",
      "- customer service\n",
      "\n",
      "You will only respond with the predefined category. Do not provide explanations or notes.\n",
      "\n",
      "###\n",
      "Here are some examples:\n",
      "Inquiry: How do I know if I will get my card, or if it is lost? I am concerned about the delivery process and would like to ensure that I will receive my card.\n",
      "Category: card arrival\n",
      "\n",
      "Inquiry: I am planning an international trip to Paris and would like to inquire about the current exchange rates for Euros as well as any associated fees for currency exchange.\n",
      "Category: exchange rate\n",
      "\n",
      "Inquiry: What countries are supported? I will be traveling and living abroad for an extended period of time, specifically in France and Germany, and would like to know if my bank services will be available there.\n",
      "Category: country support\n",
      "\n",
      "Inquiry: Can I get help starting my computer? I am having difficulty starting my computer, and would appreciate your expertise in helping me troubleshoot this issue.\n",
      "Category: customer service\n",
      "\n",
      "###\n",
      "<<<\n",
      "Inquiry: {inquiry}\n",
      ">>>\n",
      "Category:\n"
     ]
    }
   ],
   "source": [
    "print(response)"
   ]
  },
  {
   "cell_type": "code",
   "execution_count": 19,
   "id": "8587e0fd-9b20-423e-b1d6-af753ef02642",
   "metadata": {},
   "outputs": [
    {
     "data": {
      "text/plain": [
       "'country support'"
      ]
     },
     "execution_count": 19,
     "metadata": {},
     "output_type": "execute_result"
    }
   ],
   "source": [
    "mistral(\n",
    "response.format(\n",
    "inquiry=\"I am inquiring about the availability of your cards in the EU\")\n",
    ")"
   ]
  },
  {
   "cell_type": "code",
   "execution_count": 21,
   "id": "fc5ab091-02e5-44e9-b2b7-7c36e9b2da4d",
   "metadata": {},
   "outputs": [],
   "source": [
    "medical_notes = \"\"\"\n",
    "A 60-year-old male patient, Mr. Johnson, presented with symptoms\n",
    "of increased thirst, frequent urination, fatigue, and unexplained\n",
    "weight loss. Upon evaluation, he was diagnosed with diabetes,\n",
    "confirmed by elevated blood sugar levels. Mr. Johnson's weight\n",
    "is 210 lbs. He has been prescribed Metformin to be taken twice daily\n",
    "with meals. It was noted during the consultation that the patient is\n",
    "a current smoker.\n",
    "\"\"\""
   ]
  },
  {
   "cell_type": "code",
   "execution_count": 25,
   "id": "0db63664-748c-43ee-86b0-c8c579258a5d",
   "metadata": {},
   "outputs": [],
   "source": [
    "prompt = f\"\"\"\n",
    "Extract information from the following medical notes:\n",
    "{medical_notes}\n",
    "Return json format with the following JSON schema:\n",
    "{{\n",
    "    \"age\": {{\n",
    "        \"type\": \"integer\"\n",
    "    }},\n",
    "    \"gender\": {{\n",
    "        \"type\": \"string\",\n",
    "        \"enum\": [\"male\", \"female\", \"other\"]\n",
    "    }},\n",
    "    \"diagnosis\": {{\n",
    "        \"type\": \"string\",\n",
    "        \"enum\": [\"migraine\", \"diabetes\", \"arthritis\", \"acne\"]\n",
    "    }},\n",
    "    \"weight\": {{\n",
    "        \"type\": \"integer\"\n",
    "    }},\n",
    "    \"smoking\": {{\n",
    "        \"type\": \"string\",\n",
    "        \"enum\": [\"yes\", \"no\"]\n",
    "    }}\n",
    "}}\n",
    "\"\"\"    "
   ]
  },
  {
   "cell_type": "code",
   "execution_count": 27,
   "id": "dc238a65-8be5-4953-8e49-369f1485c636",
   "metadata": {},
   "outputs": [
    {
     "name": "stdout",
     "output_type": "stream",
     "text": [
      "```json\n",
      "{\n",
      "    \"age\": 60,\n",
      "    \"gender\": \"male\",\n",
      "    \"diagnosis\": \"diabetes\",\n",
      "    \"weight\": 210,\n",
      "    \"smoking\": \"yes\"\n",
      "}\n",
      "```\n"
     ]
    }
   ],
   "source": [
    "response = mistral(prompt, is_json=True)\n",
    "print(response)"
   ]
  },
  {
   "cell_type": "code",
   "execution_count": 29,
   "id": "90a00cf9-857f-4f40-9d65-1a92bf826f40",
   "metadata": {},
   "outputs": [],
   "source": [
    "email = \"\"\"\n",
    "Dear mortgage lender,\n",
    "What's your 30-year fixed-rate APR, how is it compared to the 15-year\n",
    "fixed rate?\n",
    "Regards,\n",
    "Anna\n",
    "\"\"\""
   ]
  },
  {
   "cell_type": "code",
   "execution_count": 31,
   "id": "1e33fd07-e68e-47d5-8764-cd60deca8d71",
   "metadata": {},
   "outputs": [],
   "source": [
    "prompt = f\"\"\"\n",
    "You are a mortgage lender customer service bot, and your task is to\n",
    "create personalized email responses to address customer questions.\n",
    "Answer the customer's inquiry using the provided facts below. Ensure\n",
    "that your response is clear, concise, and directly addresses the\n",
    "customer's question. Address the customer in a friendly and\n",
    "professional manner. Sign the email with \"Lender Customer Support.\"\n",
    "# Facts\n",
    "30-year fixed-rate: interest rate 6.403%, APR 6.484%\n",
    "20-year fixed-rate: interest rate 6.329%, APR 6.429%\n",
    "15-year fixed-rate: interest rate 5.705%, APR 5.848%\n",
    "10-year fixed-rate: interest rate 5.500%, APR 5.720%\n",
    "7-year ARM: interest rate 7.011%, APR 7.660%\n",
    "5-year ARM: interest rate 6.880%, APR 7.754%\n",
    "3-year ARM: interest rate 6.125%, APR 7.204%\n",
    "30-year fixed-rate FHA: interest rate 5.527%, APR 6.316%\n",
    "30-year fixed-rate VA: interest rate 5.684%, APR 6.062%\n",
    "# Email\n",
    "{email}\n",
    "\"\"\""
   ]
  },
  {
   "cell_type": "code",
   "execution_count": 33,
   "id": "ded47e9c-5bf4-41fd-ba1e-3c4abacbc68b",
   "metadata": {},
   "outputs": [
    {
     "name": "stdout",
     "output_type": "stream",
     "text": [
      "Dear Anna,\n",
      "\n",
      "Thank you for your inquiry.\n",
      "\n",
      "Our 30-year fixed-rate mortgage has an Annual Percentage Rate (APR) of 6.484%. In comparison, the 15-year fixed-rate mortgage has an APR of 5.848%.\n",
      "\n",
      "If you have any further questions or need additional information, please feel free to ask.\n",
      "\n",
      "Best regards,\n",
      "Lender Customer Support\n"
     ]
    }
   ],
   "source": [
    "response = mistral(prompt)\n",
    "print(response)"
   ]
  },
  {
   "cell_type": "code",
   "execution_count": 39,
   "id": "34b7c9bb-65ce-4a69-9298-21f3bd23bb7e",
   "metadata": {},
   "outputs": [],
   "source": [
    "newsletter = \"\"\"\n",
    "European AI champion Mistral AI unveiled new large language models and formed an alliance with Microsoft. \n",
    "\n",
    "What’s new: Mistral AI introduced two closed models, Mistral Large and Mistral Small (joining Mistral Medium, which debuted quietly late last year). Microsoft invested $16.3 million in the French startup, and it agreed to distribute Mistral Large on its Azure platform and let Mistral AI use Azure computing infrastructure. Mistral AI makes the new models available to try for free here and to use on its La Plateforme and via custom deployments.\n",
    "\n",
    "Model specs: The new models’ parameter counts, architectures, and training methods are undisclosed. Like the earlier, open source Mistral 7B and Mixtral 8x7B, they can process 32,000 tokens of input context. \n",
    "\n",
    "Mistral Large achieved 81.2 percent on the MMLU benchmark, outperforming Anthropic’s Claude 2, Google’s Gemini Pro, and Meta’s Llama 2 70B, though falling short of GPT-4. Mistral Small, which is optimized for latency and cost, achieved 72.2 percent on MMLU.\n",
    "Both models are fluent in French, German, Spanish, and Italian. They’re trained for function calling and JSON-format output.\n",
    "Microsoft’s investment in Mistral AI is significant but tiny compared to its $13 billion stake in OpenAI and Google and Amazon’s investments in Anthropic, which amount to $2 billion and $4 billion respectively.\n",
    "Mistral AI and Microsoft will collaborate to train bespoke models for customers including European governments.\n",
    "Behind the news: Mistral AI was founded in early 2023 by engineers from Google and Meta. The French government has touted the company as a home-grown competitor to U.S.-based leaders like OpenAI. France’s representatives in the European Commission argued on Mistral’s behalf to loosen the European Union’s AI Act oversight on powerful AI models. \n",
    "\n",
    "Yes, but: Mistral AI’s partnership with Microsoft has divided European lawmakers and regulators. The European Commission, which already was investigating Microsoft’s agreement with OpenAI for potential breaches of antitrust law, plans to investigate the new partnership as well. Members of President Emmanuel Macron’s Renaissance party criticized the deal’s potential to give a U.S. company access to European users’ data. However, other French lawmakers support the relationship.\n",
    "\n",
    "Why it matters: The partnership between Mistral AI and Microsoft gives the startup crucial processing power for training large models and greater access to potential customers around the world. It gives the tech giant greater access to the European market. And it gives Azure customers access to a high-performance model that’s tailored to Europe’s unique regulatory environment.\n",
    "\n",
    "We’re thinking: Mistral AI has made impressive progress in a short time, especially relative to the resources at its disposal as a startup. Its partnership with a leading hyperscaler is a sign of the tremendous processing and distribution power that remains concentrated in the large, U.S.-headquartered cloud companies.\n",
    "\"\"\""
   ]
  },
  {
   "cell_type": "code",
   "execution_count": 41,
   "id": "3d299770-823b-40bc-a9bf-1ea3d4dba465",
   "metadata": {},
   "outputs": [],
   "source": [
    "prompt = f\"\"\"\n",
    "You are a commentator. Your task is to write a report on a newsletter.\n",
    "When presented with the newsletter, come up with interesting questions to ask,\n",
    "and answer each question.\n",
    "Afterward, combine all the information and write a report in the markdown\n",
    "format.\n",
    "# Newsletter:\n",
    "{newsletter}\n",
    "# Instructions:\n",
    "## Summarize:\n",
    "In clear and concise language, summarize the key points and themes\n",
    "presented in the newsletter.\n",
    "## Interesting Questions:\n",
    "Generate three distinct and thought-provoking questions that can be\n",
    "asked about the content of the newsletter. For each question:\n",
    "- After \"Q: \", describe the problem\n",
    "- After \"A: \", provide a detailed explanation of the problem addressed\n",
    "in the question.\n",
    "- Enclose the ultimate answer in <>.\n",
    "## Write a analysis report\n",
    "Using the summary and the answers to the interesting questions,\n",
    "create a comprehensive report in Markdown format.\n",
    "\"\"\""
   ]
  },
  {
   "cell_type": "code",
   "execution_count": 45,
   "id": "d27d66ae-5ada-4ba5-8d25-b867713f49df",
   "metadata": {},
   "outputs": [
    {
     "name": "stdout",
     "output_type": "stream",
     "text": [
      "# Report on Mistral AI and Microsoft Partnership\n",
      "\n",
      "## Summary\n",
      "\n",
      "European AI company Mistral AI has introduced two new large language models, Mistral Large and Mistral Small, and formed a strategic alliance with Microsoft. Microsoft invested $16.3 million in Mistral AI, agreeing to distribute Mistral Large on its Azure platform and provide Azure computing infrastructure to Mistral AI. The new models are available for free trials and can be used on Mistral AI's La Plateforme and via custom deployments.\n",
      "\n",
      "Mistral Large achieved an impressive 81.2 percent on the MMLU benchmark, outperforming several competitors but falling short of GPT-4. Mistral Small, optimized for latency and cost, scored 72.2 percent. Both models support multiple languages and are trained for function calling and JSON-format output.\n",
      "\n",
      "The partnership aims to collaborate on training bespoke models for customers, including European governments. However, the deal has divided European lawmakers, with some criticizing potential data access by a U.S. company and others supporting the collaboration. The European Commission plans to investigate the partnership for potential antitrust law breaches.\n",
      "\n",
      "## Interesting Questions\n",
      "\n",
      "### Q1: How does the investment from Microsoft compare to its investments in other AI companies?\n",
      "**A1:** Microsoft's $16.3 million investment in Mistral AI is relatively small compared to its $13 billion stake in OpenAI. Additionally, other tech giants like Google and Amazon have invested $2 billion and $4 billion respectively in Anthropic. This suggests that while significant, Microsoft's investment in Mistral AI is more modest and strategically targeted.\n",
      "<**$16.3 million is significantly smaller compared to Microsoft's $13 billion investment in OpenAI and the investments by Google and Amazon in Anthropic.**>\n",
      "\n",
      "### Q2: What are the potential regulatory challenges Mistral AI might face due to its partnership with Microsoft?\n",
      "**A2:** The partnership has already divided European lawmakers and regulators. The European Commission is investigating the deal for potential breaches of antitrust law. Members of President Emmanuel Macron’s Renaissance party have criticized the potential data access by a U.S. company, while other French lawmakers support the relationship. This indicates that Mistral AI might face scrutiny and regulatory challenges related to data privacy and antitrust issues.\n",
      "<**Mistral AI might face regulatory challenges related to data privacy and antitrust issues due to the scrutiny from European lawmakers and regulators.**>\n",
      "\n",
      "### Q3: What strategic benefits does the partnership offer to both Mistral AI and Microsoft?\n",
      "**A3:** For Mistral AI, the partnership provides crucial processing power for training large models and greater access to potential customers worldwide. For Microsoft, it offers greater access to the European market and allows Azure customers to use a high-performance model tailored to Europe’s regulatory environment. This mutual benefit strengthens both companies' positions in the global AI market.\n",
      "<**The partnership provides Mistral AI with processing power and market access, while Microsoft gains a stronger foothold in the European market and offers Azure customers a powerful AI model.**>\n",
      "\n",
      "## Analysis Report\n",
      "\n",
      "### Mistral AI and Microsoft Partnership: A Strategic Alliance with Regulatory Challenges\n",
      "\n",
      "European AI leader Mistral AI has made significant strides with the introduction of two new large language models, Mistral Large and Mistral Small, and a strategic alliance with Microsoft. This partnership, backed by a $16.3 million investment from Microsoft, allows Mistral AI to leverage Azure's computing infrastructure and distribute Mistral Large on the Azure platform. The new models are available for free trials and can be used on Mistral AI's La Plateforme and via custom deployments.\n",
      "\n",
      "**Model Performance and Features:**\n",
      "Mistral Large achieved an impressive 81.2 percent on the MMLU benchmark, surpassing competitors like Anthropic’s Claude 2, Google’s Gemini Pro, and Meta’s Llama 2 70B, but falling short of GPT-4. Mistral Small, optimized for latency and cost, scored 72.2 percent. Both models support French, German, Spanish, and Italian and are trained for function calling and JSON-format output.\n",
      "\n",
      "**Investment Comparison:**\n",
      "Microsoft's $16.3 million investment in Mistral AI is relatively small compared to its $13 billion stake in OpenAI. Other tech giants like Google and Amazon have invested $2 billion and $4 billion respectively in Anthropic. This suggests that while significant, Microsoft's investment in Mistral AI is more modest and strategically targeted.\n",
      "\n",
      "**Regulatory Challenges:**\n",
      "The partnership has divided European lawmakers and regulators. The European Commission is investigating the deal for potential breaches of antitrust law. Members of President Emmanuel Macron’s Renaissance party have criticized the potential data access by a U.S. company, while other French lawmakers support the relationship. This indicates that Mistral AI might face scrutiny and regulatory challenges related to data privacy and antitrust issues.\n",
      "\n",
      "**Strategic Benefits:**\n",
      "For Mistral AI, the partnership provides crucial processing power for training large models and greater access to potential customers worldwide. For Microsoft, it offers greater access to the European market and allows Azure customers to use a high-performance model tailored to Europe’s regulatory environment. This mutual benefit strengthens both companies' positions in the global AI market.\n",
      "\n",
      "**Conclusion:**\n",
      "The partnership between Mistral AI and Microsoft represents a strategic alliance that leverages the strengths of both companies. While it offers significant benefits, it also comes with regulatory challenges that need to be navigated carefully. The success of this collaboration will depend on how well both companies manage these challenges and capitalize on the opportunities presented by the European market.\n"
     ]
    }
   ],
   "source": [
    "response = mistral(prompt)\n",
    "print(response)"
   ]
  },
  {
   "cell_type": "code",
   "execution_count": null,
   "id": "50d2ee9f-e0ce-497f-bad5-e9af8869ebe2",
   "metadata": {},
   "outputs": [],
   "source": []
  }
 ],
 "metadata": {
  "kernelspec": {
   "display_name": "Python 3 (ipykernel)",
   "language": "python",
   "name": "python3"
  },
  "language_info": {
   "codemirror_mode": {
    "name": "ipython",
    "version": 3
   },
   "file_extension": ".py",
   "mimetype": "text/x-python",
   "name": "python",
   "nbconvert_exporter": "python",
   "pygments_lexer": "ipython3",
   "version": "3.12.7"
  }
 },
 "nbformat": 4,
 "nbformat_minor": 5
}
