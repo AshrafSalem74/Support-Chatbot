{
 "cells": [
  {
   "cell_type": "code",
   "execution_count": 1,
   "id": "a79dbc24-ac00-417c-ad9b-d1b7a2a03652",
   "metadata": {},
   "outputs": [
    {
     "name": "stdout",
     "output_type": "stream",
     "text": [
      "Collecting mistralai\n",
      "  Using cached mistralai-1.5.0-py3-none-any.whl.metadata (29 kB)\n",
      "Collecting eval-type-backport>=0.2.0 (from mistralai)\n",
      "  Using cached eval_type_backport-0.2.2-py3-none-any.whl.metadata (2.2 kB)\n",
      "Collecting httpx>=0.27.0 (from mistralai)\n",
      "  Downloading httpx-0.28.1-py3-none-any.whl.metadata (7.1 kB)\n",
      "Collecting jsonpath-python>=1.0.6 (from mistralai)\n",
      "  Using cached jsonpath_python-1.0.6-py3-none-any.whl.metadata (12 kB)\n",
      "Collecting pydantic>=2.9.0 (from mistralai)\n",
      "  Using cached pydantic-2.10.6-py3-none-any.whl.metadata (30 kB)\n",
      "Requirement already satisfied: python-dateutil>=2.8.2 in c:\\users\\salem\\anaconda3\\envs\\selected_topics\\lib\\site-packages (from mistralai) (2.9.0.post0)\n",
      "Collecting typing-inspect>=0.9.0 (from mistralai)\n",
      "  Using cached typing_inspect-0.9.0-py3-none-any.whl.metadata (1.5 kB)\n",
      "Collecting anyio (from httpx>=0.27.0->mistralai)\n",
      "  Downloading anyio-4.8.0-py3-none-any.whl.metadata (4.6 kB)\n",
      "Requirement already satisfied: certifi in c:\\users\\salem\\anaconda3\\envs\\selected_topics\\lib\\site-packages (from httpx>=0.27.0->mistralai) (2025.1.31)\n",
      "Collecting httpcore==1.* (from httpx>=0.27.0->mistralai)\n",
      "  Downloading httpcore-1.0.7-py3-none-any.whl.metadata (21 kB)\n",
      "Requirement already satisfied: idna in c:\\users\\salem\\anaconda3\\envs\\selected_topics\\lib\\site-packages (from httpx>=0.27.0->mistralai) (3.7)\n",
      "Collecting h11<0.15,>=0.13 (from httpcore==1.*->httpx>=0.27.0->mistralai)\n",
      "  Downloading h11-0.14.0-py3-none-any.whl.metadata (8.2 kB)\n",
      "Collecting annotated-types>=0.6.0 (from pydantic>=2.9.0->mistralai)\n",
      "  Downloading annotated_types-0.7.0-py3-none-any.whl.metadata (15 kB)\n",
      "Collecting pydantic-core==2.27.2 (from pydantic>=2.9.0->mistralai)\n",
      "  Downloading pydantic_core-2.27.2-cp39-cp39-win_amd64.whl.metadata (6.7 kB)\n",
      "Requirement already satisfied: typing-extensions>=4.12.2 in c:\\users\\salem\\anaconda3\\envs\\selected_topics\\lib\\site-packages (from pydantic>=2.9.0->mistralai) (4.12.2)\n",
      "Requirement already satisfied: six>=1.5 in c:\\users\\salem\\anaconda3\\envs\\selected_topics\\lib\\site-packages (from python-dateutil>=2.8.2->mistralai) (1.16.0)\n",
      "Collecting mypy-extensions>=0.3.0 (from typing-inspect>=0.9.0->mistralai)\n",
      "  Downloading mypy_extensions-1.0.0-py3-none-any.whl.metadata (1.1 kB)\n",
      "Requirement already satisfied: exceptiongroup>=1.0.2 in c:\\users\\salem\\anaconda3\\envs\\selected_topics\\lib\\site-packages (from anyio->httpx>=0.27.0->mistralai) (1.2.2)\n",
      "Collecting sniffio>=1.1 (from anyio->httpx>=0.27.0->mistralai)\n",
      "  Downloading sniffio-1.3.1-py3-none-any.whl.metadata (3.9 kB)\n",
      "Using cached mistralai-1.5.0-py3-none-any.whl (271 kB)\n",
      "Using cached eval_type_backport-0.2.2-py3-none-any.whl (5.8 kB)\n",
      "Downloading httpx-0.28.1-py3-none-any.whl (73 kB)\n",
      "Downloading httpcore-1.0.7-py3-none-any.whl (78 kB)\n",
      "Using cached jsonpath_python-1.0.6-py3-none-any.whl (7.6 kB)\n",
      "Using cached pydantic-2.10.6-py3-none-any.whl (431 kB)\n",
      "Downloading pydantic_core-2.27.2-cp39-cp39-win_amd64.whl (2.0 MB)\n",
      "   ---------------------------------------- 0.0/2.0 MB ? eta -:--:--\n",
      "   ---------------------------------------- 0.0/2.0 MB ? eta -:--:--\n",
      "   ---------------------------------------- 0.0/2.0 MB ? eta -:--:--\n",
      "   ---------------------------------------- 0.0/2.0 MB ? eta -:--:--\n",
      "   ---------------------------------------- 0.0/2.0 MB ? eta -:--:--\n",
      "   ----- ---------------------------------- 0.3/2.0 MB ? eta -:--:--\n",
      "   ----- ---------------------------------- 0.3/2.0 MB ? eta -:--:--\n",
      "   ----- ---------------------------------- 0.3/2.0 MB ? eta -:--:--\n",
      "   ----- ---------------------------------- 0.3/2.0 MB ? eta -:--:--\n",
      "   ---------- ----------------------------- 0.5/2.0 MB 275.1 kB/s eta 0:00:06\n",
      "   ---------- ----------------------------- 0.5/2.0 MB 275.1 kB/s eta 0:00:06\n",
      "   ---------- ----------------------------- 0.5/2.0 MB 275.1 kB/s eta 0:00:06\n",
      "   ---------- ----------------------------- 0.5/2.0 MB 275.1 kB/s eta 0:00:06\n",
      "   --------------- ------------------------ 0.8/2.0 MB 282.0 kB/s eta 0:00:05\n",
      "   --------------- ------------------------ 0.8/2.0 MB 282.0 kB/s eta 0:00:05\n",
      "   --------------- ------------------------ 0.8/2.0 MB 282.0 kB/s eta 0:00:05\n",
      "   --------------- ------------------------ 0.8/2.0 MB 282.0 kB/s eta 0:00:05\n",
      "   --------------------- ------------------ 1.0/2.0 MB 297.8 kB/s eta 0:00:04\n",
      "   --------------------- ------------------ 1.0/2.0 MB 297.8 kB/s eta 0:00:04\n",
      "   --------------------- ------------------ 1.0/2.0 MB 297.8 kB/s eta 0:00:04\n",
      "   --------------------- ------------------ 1.0/2.0 MB 297.8 kB/s eta 0:00:04\n",
      "   -------------------------- ------------- 1.3/2.0 MB 306.4 kB/s eta 0:00:03\n",
      "   -------------------------- ------------- 1.3/2.0 MB 306.4 kB/s eta 0:00:03\n",
      "   -------------------------- ------------- 1.3/2.0 MB 306.4 kB/s eta 0:00:03\n",
      "   ------------------------------- -------- 1.6/2.0 MB 319.0 kB/s eta 0:00:02\n",
      "   ------------------------------- -------- 1.6/2.0 MB 319.0 kB/s eta 0:00:02\n",
      "   ------------------------------- -------- 1.6/2.0 MB 319.0 kB/s eta 0:00:02\n",
      "   ------------------------------------ --- 1.8/2.0 MB 322.6 kB/s eta 0:00:01\n",
      "   ------------------------------------ --- 1.8/2.0 MB 322.6 kB/s eta 0:00:01\n",
      "   ---------------------------------------- 2.0/2.0 MB 326.3 kB/s eta 0:00:00\n",
      "Using cached typing_inspect-0.9.0-py3-none-any.whl (8.8 kB)\n",
      "Downloading annotated_types-0.7.0-py3-none-any.whl (13 kB)\n",
      "Downloading mypy_extensions-1.0.0-py3-none-any.whl (4.7 kB)\n",
      "Downloading anyio-4.8.0-py3-none-any.whl (96 kB)\n",
      "Downloading h11-0.14.0-py3-none-any.whl (58 kB)\n",
      "Downloading sniffio-1.3.1-py3-none-any.whl (10 kB)\n",
      "Installing collected packages: sniffio, pydantic-core, mypy-extensions, jsonpath-python, h11, eval-type-backport, annotated-types, typing-inspect, pydantic, httpcore, anyio, httpx, mistralai\n",
      "Successfully installed annotated-types-0.7.0 anyio-4.8.0 eval-type-backport-0.2.2 h11-0.14.0 httpcore-1.0.7 httpx-0.28.1 jsonpath-python-1.0.6 mistralai-1.5.0 mypy-extensions-1.0.0 pydantic-2.10.6 pydantic-core-2.27.2 sniffio-1.3.1 typing-inspect-0.9.0\n"
     ]
    },
    {
     "name": "stderr",
     "output_type": "stream",
     "text": [
      "ERROR: Could not open requirements file: [Errno 2] No such file or directory: 'requirements.txt'\n"
     ]
    }
   ],
   "source": [
    "!pip install mistralai\n",
    "!pip install -r requirements.txt"
   ]
  },
  {
   "cell_type": "code",
   "execution_count": 2,
   "id": "9cbe7d31-f5b5-4f24-9474-f6ce69e2e73a",
   "metadata": {},
   "outputs": [
    {
     "name": "stdout",
     "output_type": "stream",
     "text": [
      "MISTRAL_API_KEY: tlcYsUNSS1iVHZ6lWnUw8KKW2f8AoVJf\n"
     ]
    }
   ],
   "source": [
    "import os\n",
    "os.environ[\"MISTRAL_API_KEY\"] = \"tlcYsUNSS1iVHZ6lWnUw8KKW2f8AoVJf\"\n",
    "print(f\"MISTRAL_API_KEY: {os.environ.get('MISTRAL_API_KEY')}\")"
   ]
  },
  {
   "cell_type": "code",
   "execution_count": null,
   "id": "0f972510-503a-4b5c-babf-5f12ad85a87a",
   "metadata": {},
   "outputs": [],
   "source": [
    "api_key = os.getenv(\"MISTRAL_API_KEY\")"
   ]
  },
  {
   "cell_type": "code",
   "execution_count": 4,
   "id": "075e4d48-d00a-4bef-b799-968aa3fdc9c7",
   "metadata": {},
   "outputs": [],
   "source": [
    "import os\n",
    "from mistralai import Mistral, UserMessage\n",
    "def mistral(user_message, model=\"mistral-small-latest\", is_json=False):\n",
    "    model = \"mistral-large-latest\"\n",
    "    client = Mistral(api_key=api_key)\n",
    "    messages = [\n",
    "        UserMessage(content=user_message),\n",
    "    ]\n",
    "    chat_response = client.chat.complete(\n",
    "        model=model,\n",
    "        messages=messages,\n",
    "    )\n",
    "    return chat_response.choices[0].message.content"
   ]
  },
  {
   "cell_type": "code",
   "execution_count": 5,
   "id": "a52b60ab-0832-4f98-9e4a-82b30a0601ef",
   "metadata": {},
   "outputs": [
    {
     "data": {
      "text/plain": [
       "\"Hello! I can help with a wide range of tasks and provide information on various topics. Here are some things I can do:\\n\\n1. **Answer Questions**: I can provide information on a broad range of topics, from science and technology to history and culture.\\n2. **Explain Concepts**: I can break down complex ideas into simpler terms.\\n3. **Provide Recommendations**: Whether it's books, movies, recipes, or travel destinations, I can suggest options tailored to your preferences.\\n4. **Assist with Writing**: I can help with writing essays, reports, creative pieces, and more.\\n5. **Solve Problems**: I can help with mathematical problems, coding issues, and other types of problem-solving.\\n6. **Translate Text**: I can translate text between multiple languages.\\n7. **Offer Advice**: I can provide guidance on a variety of topics, from study habits to career choices.\\n8. **Engage in Conversation**: I can chat about almost any topic you're interested in.\\n9. **Offer Trivia and Fun Facts**: I can share interesting trivia and fun facts on a wide range of subjects.\\n10. **Share Recipes and Cooking Tips**: I can provide recipes and cooking advice to help you in the kitchen.\\n\\nWhat would you like assistance with today?\""
      ]
     },
     "execution_count": 5,
     "metadata": {},
     "output_type": "execute_result"
    }
   ],
   "source": [
    "mistral(\"hello, what can you do?\")"
   ]
  },
  {
   "cell_type": "code",
   "execution_count": 6,
   "id": "f1d31571-0de2-460d-86e2-ae9fad3bc0e8",
   "metadata": {},
   "outputs": [],
   "source": [
    "prompt = \"\"\"\n",
    "You are a bank customer service bot.\n",
    "Your task is to assess customer intent and categorize customer\n",
    "inquiry after <<<>>> into one of the following predefined categories:\n",
    "card arrival\n",
    "change pin\n",
    "exchange rate\n",
    "country support\n",
    "cancel transfer\n",
    "charge dispute\n",
    "If the text doesn't fit into any of the above categories,\n",
    "classify it as:\n",
    "customer service\n",
    "You will only respond with the predefined category.\n",
    "Do not provide explanations or notes.\n",
    "###\n",
    "Here are some examples:\n",
    "Inquiry: How do I know if I will get my card, or if it is lost? I am concerned about the delivery process and would like to ensure that I will receive my ca\n",
    "Category: card arrival\n",
    "Inquiry: I am planning an international trip to Paris and would like to inquire about the current exchange rates for Euros as well as any associated fees fo\n",
    "Category: exchange rate\n",
    "Inquiry: What countries are getting support? I will be traveling and living abroad for an extended period of time, specifically in France and Germany, and w\n",
    "Category: country support\n",
    "Inquiry: Can I get help starting my computer? I am having difficulty starting my computer, and would appreciate your expertise in helping me troubleshoot th\n",
    "Category: customer service\n",
    "###\n",
    "<<<\n",
    "Inquiry: {inquiry}\n",
    ">>>\n",
    "Category:\n",
    "\"\"\""
   ]
  },
  {
   "cell_type": "code",
   "execution_count": 7,
   "id": "e026454f-9014-4c68-a28c-168cc6152a18",
   "metadata": {},
   "outputs": [],
   "source": [
    "response = mistral(f\"Please correct the spelling and grammar of \\\n",
    "this prompt and return a text that is the same prompt,\\\n",
    "with the spelling and grammar fixed: {prompt}\")"
   ]
  },
  {
   "cell_type": "code",
   "execution_count": 8,
   "id": "18209d87-4964-4dd8-9336-88f5d320591e",
   "metadata": {},
   "outputs": [
    {
     "name": "stdout",
     "output_type": "stream",
     "text": [
      "Here is the corrected text:\n",
      "\n",
      "You are a bank customer service bot.\n",
      "Your task is to assess customer intent and categorize the customer inquiry after <<<>>> into one of the following predefined categories:\n",
      "- card arrival\n",
      "- change pin\n",
      "- exchange rate\n",
      "- country support\n",
      "- cancel transfer\n",
      "- charge dispute\n",
      "\n",
      "If the text doesn't fit into any of the above categories, classify it as:\n",
      "- customer service\n",
      "\n",
      "You will only respond with the predefined category. Do not provide explanations or notes.\n",
      "\n",
      "###\n",
      "Here are some examples:\n",
      "\n",
      "Inquiry: How do I know if I will get my card, or if it is lost? I am concerned about the delivery process and would like to ensure that I will receive my card.\n",
      "Category: card arrival\n",
      "\n",
      "Inquiry: I am planning an international trip to Paris and would like to inquire about the current exchange rates for Euros as well as any associated fees for international transactions.\n",
      "Category: exchange rate\n",
      "\n",
      "Inquiry: What countries are supported? I will be traveling and living abroad for an extended period of time, specifically in France and Germany, and would like to know if my services will work there.\n",
      "Category: country support\n",
      "\n",
      "Inquiry: Can I get help starting my computer? I am having difficulty starting my computer, and would appreciate your expertise in helping me troubleshoot this issue.\n",
      "Category: customer service\n",
      "\n",
      "###\n",
      "<<<\n",
      "Inquiry: {inquiry}\n",
      ">>>\n",
      "Category:\n"
     ]
    }
   ],
   "source": [
    "print(response)"
   ]
  },
  {
   "cell_type": "code",
   "execution_count": 9,
   "id": "8587e0fd-9b20-423e-b1d6-af753ef02642",
   "metadata": {},
   "outputs": [
    {
     "data": {
      "text/plain": [
       "'country support'"
      ]
     },
     "execution_count": 9,
     "metadata": {},
     "output_type": "execute_result"
    }
   ],
   "source": [
    "mistral(\n",
    "response.format(\n",
    "inquiry=\"I am inquiring about the availability of your cards in the EU\")\n",
    ")"
   ]
  },
  {
   "cell_type": "code",
   "execution_count": 10,
   "id": "fc5ab091-02e5-44e9-b2b7-7c36e9b2da4d",
   "metadata": {},
   "outputs": [],
   "source": [
    "medical_notes = \"\"\"\n",
    "A 60-year-old male patient, Mr. Johnson, presented with symptoms\n",
    "of increased thirst, frequent urination, fatigue, and unexplained\n",
    "weight loss. Upon evaluation, he was diagnosed with diabetes,\n",
    "confirmed by elevated blood sugar levels. Mr. Johnson's weight\n",
    "is 210 lbs. He has been prescribed Metformin to be taken twice daily\n",
    "with meals. It was noted during the consultation that the patient is\n",
    "a current smoker.\n",
    "\"\"\""
   ]
  },
  {
   "cell_type": "code",
   "execution_count": 11,
   "id": "0db63664-748c-43ee-86b0-c8c579258a5d",
   "metadata": {},
   "outputs": [],
   "source": [
    "prompt = f\"\"\"\n",
    "Extract information from the following medical notes:\n",
    "{medical_notes}\n",
    "Return json format with the following JSON schema:\n",
    "{{\n",
    "    \"age\": {{\n",
    "        \"type\": \"integer\"\n",
    "    }},\n",
    "    \"gender\": {{\n",
    "        \"type\": \"string\",\n",
    "        \"enum\": [\"male\", \"female\", \"other\"]\n",
    "    }},\n",
    "    \"diagnosis\": {{\n",
    "        \"type\": \"string\",\n",
    "        \"enum\": [\"migraine\", \"diabetes\", \"arthritis\", \"acne\"]\n",
    "    }},\n",
    "    \"weight\": {{\n",
    "        \"type\": \"integer\"\n",
    "    }},\n",
    "    \"smoking\": {{\n",
    "        \"type\": \"string\",\n",
    "        \"enum\": [\"yes\", \"no\"]\n",
    "    }}\n",
    "}}\n",
    "\"\"\"    "
   ]
  },
  {
   "cell_type": "code",
   "execution_count": 12,
   "id": "dc238a65-8be5-4953-8e49-369f1485c636",
   "metadata": {},
   "outputs": [
    {
     "name": "stdout",
     "output_type": "stream",
     "text": [
      "```json\n",
      "{\n",
      "    \"age\": 60,\n",
      "    \"gender\": \"male\",\n",
      "    \"diagnosis\": \"diabetes\",\n",
      "    \"weight\": 210,\n",
      "    \"smoking\": \"yes\"\n",
      "}\n",
      "```\n"
     ]
    }
   ],
   "source": [
    "response = mistral(prompt, is_json=True)\n",
    "print(response)"
   ]
  },
  {
   "cell_type": "code",
   "execution_count": 13,
   "id": "90a00cf9-857f-4f40-9d65-1a92bf826f40",
   "metadata": {},
   "outputs": [],
   "source": [
    "email = \"\"\"\n",
    "Dear mortgage lender,\n",
    "What's your 30-year fixed-rate APR, how is it compared to the 15-year\n",
    "fixed rate?\n",
    "Regards,\n",
    "Anna\n",
    "\"\"\""
   ]
  },
  {
   "cell_type": "code",
   "execution_count": 14,
   "id": "1e33fd07-e68e-47d5-8764-cd60deca8d71",
   "metadata": {},
   "outputs": [],
   "source": [
    "prompt = f\"\"\"\n",
    "You are a mortgage lender customer service bot, and your task is to\n",
    "create personalized email responses to address customer questions.\n",
    "Answer the customer's inquiry using the provided facts below. Ensure\n",
    "that your response is clear, concise, and directly addresses the\n",
    "customer's question. Address the customer in a friendly and\n",
    "professional manner. Sign the email with \"Lender Customer Support.\"\n",
    "# Facts\n",
    "30-year fixed-rate: interest rate 6.403%, APR 6.484%\n",
    "20-year fixed-rate: interest rate 6.329%, APR 6.429%\n",
    "15-year fixed-rate: interest rate 5.705%, APR 5.848%\n",
    "10-year fixed-rate: interest rate 5.500%, APR 5.720%\n",
    "7-year ARM: interest rate 7.011%, APR 7.660%\n",
    "5-year ARM: interest rate 6.880%, APR 7.754%\n",
    "3-year ARM: interest rate 6.125%, APR 7.204%\n",
    "30-year fixed-rate FHA: interest rate 5.527%, APR 6.316%\n",
    "30-year fixed-rate VA: interest rate 5.684%, APR 6.062%\n",
    "# Email\n",
    "{email}\n",
    "\"\"\""
   ]
  },
  {
   "cell_type": "code",
   "execution_count": 15,
   "id": "ded47e9c-5bf4-41fd-ba1e-3c4abacbc68b",
   "metadata": {},
   "outputs": [
    {
     "name": "stdout",
     "output_type": "stream",
     "text": [
      "Hi Anna,\n",
      "\n",
      "Thank you for your inquiry.\n",
      "\n",
      "Our current 30-year fixed-rate mortgage has an APR of 6.484%. In comparison, our 15-year fixed-rate mortgage has an APR of 5.848%.\n",
      "\n",
      "Here's a quick comparison:\n",
      "- 30-year fixed-rate APR: 6.484%\n",
      "- 15-year fixed-rate APR: 5.848%\n",
      "\n",
      "If you have any further questions or need more information, please feel free to ask.\n",
      "\n",
      "Best regards,\n",
      "Lender Customer Support\n"
     ]
    }
   ],
   "source": [
    "response = mistral(prompt)\n",
    "print(response)"
   ]
  },
  {
   "cell_type": "code",
   "execution_count": 16,
   "id": "34b7c9bb-65ce-4a69-9298-21f3bd23bb7e",
   "metadata": {},
   "outputs": [],
   "source": [
    "newsletter = \"\"\"\n",
    "European AI champion Mistral AI unveiled new large language models and formed an alliance with Microsoft. \n",
    "\n",
    "What’s new: Mistral AI introduced two closed models, Mistral Large and Mistral Small (joining Mistral Medium, which debuted quietly late last year). Microsoft invested $16.3 million in the French startup, and it agreed to distribute Mistral Large on its Azure platform and let Mistral AI use Azure computing infrastructure. Mistral AI makes the new models available to try for free here and to use on its La Plateforme and via custom deployments.\n",
    "\n",
    "Model specs: The new models’ parameter counts, architectures, and training methods are undisclosed. Like the earlier, open source Mistral 7B and Mixtral 8x7B, they can process 32,000 tokens of input context. \n",
    "\n",
    "Mistral Large achieved 81.2 percent on the MMLU benchmark, outperforming Anthropic’s Claude 2, Google’s Gemini Pro, and Meta’s Llama 2 70B, though falling short of GPT-4. Mistral Small, which is optimized for latency and cost, achieved 72.2 percent on MMLU.\n",
    "Both models are fluent in French, German, Spanish, and Italian. They’re trained for function calling and JSON-format output.\n",
    "Microsoft’s investment in Mistral AI is significant but tiny compared to its $13 billion stake in OpenAI and Google and Amazon’s investments in Anthropic, which amount to $2 billion and $4 billion respectively.\n",
    "Mistral AI and Microsoft will collaborate to train bespoke models for customers including European governments.\n",
    "Behind the news: Mistral AI was founded in early 2023 by engineers from Google and Meta. The French government has touted the company as a home-grown competitor to U.S.-based leaders like OpenAI. France’s representatives in the European Commission argued on Mistral’s behalf to loosen the European Union’s AI Act oversight on powerful AI models. \n",
    "\n",
    "Yes, but: Mistral AI’s partnership with Microsoft has divided European lawmakers and regulators. The European Commission, which already was investigating Microsoft’s agreement with OpenAI for potential breaches of antitrust law, plans to investigate the new partnership as well. Members of President Emmanuel Macron’s Renaissance party criticized the deal’s potential to give a U.S. company access to European users’ data. However, other French lawmakers support the relationship.\n",
    "\n",
    "Why it matters: The partnership between Mistral AI and Microsoft gives the startup crucial processing power for training large models and greater access to potential customers around the world. It gives the tech giant greater access to the European market. And it gives Azure customers access to a high-performance model that’s tailored to Europe’s unique regulatory environment.\n",
    "\n",
    "We’re thinking: Mistral AI has made impressive progress in a short time, especially relative to the resources at its disposal as a startup. Its partnership with a leading hyperscaler is a sign of the tremendous processing and distribution power that remains concentrated in the large, U.S.-headquartered cloud companies.\n",
    "\"\"\""
   ]
  },
  {
   "cell_type": "code",
   "execution_count": 17,
   "id": "3d299770-823b-40bc-a9bf-1ea3d4dba465",
   "metadata": {},
   "outputs": [],
   "source": [
    "prompt = f\"\"\"\n",
    "You are a commentator. Your task is to write a report on a newsletter.\n",
    "When presented with the newsletter, come up with interesting questions to ask,\n",
    "and answer each question.\n",
    "Afterward, combine all the information and write a report in the markdown\n",
    "format.\n",
    "# Newsletter:\n",
    "{newsletter}\n",
    "# Instructions:\n",
    "## Summarize:\n",
    "In clear and concise language, summarize the key points and themes\n",
    "presented in the newsletter.\n",
    "## Interesting Questions:\n",
    "Generate three distinct and thought-provoking questions that can be\n",
    "asked about the content of the newsletter. For each question:\n",
    "- After \"Q: \", describe the problem\n",
    "- After \"A: \", provide a detailed explanation of the problem addressed\n",
    "in the question.\n",
    "- Enclose the ultimate answer in <>.\n",
    "## Write a analysis report\n",
    "Using the summary and the answers to the interesting questions,\n",
    "create a comprehensive report in Markdown format.\n",
    "\"\"\""
   ]
  },
  {
   "cell_type": "code",
   "execution_count": 18,
   "id": "d27d66ae-5ada-4ba5-8d25-b867713f49df",
   "metadata": {},
   "outputs": [
    {
     "name": "stdout",
     "output_type": "stream",
     "text": [
      "# Summary\n",
      "\n",
      "European AI startup Mistral AI has introduced two new large language models, Mistral Large and Mistral Small, and formed a strategic alliance with Microsoft. Microsoft has invested $16.3 million in Mistral AI, and the two companies will collaborate to distribute Mistral Large on Azure and use Azure's computing infrastructure for model training. The new models are available for free trial and have shown impressive performance on the MMLU benchmark, with Mistral Large outperforming several competitors. The partnership has sparked debate among European lawmakers, with some concerned about data privacy and antitrust issues.\n",
      "\n",
      "# Interesting Questions\n",
      "\n",
      "## Q1: How does Mistral AI's performance on the MMLU benchmark compare to its competitors, and what are the implications for its market position?\n",
      "\n",
      "**A:** Mistral Large achieved 81.2% on the MMLU benchmark, surpassing models like Anthropic’s Claude 2, Google’s Gemini Pro, and Meta’s Llama 2 70B, but falling short of GPT-4. This indicates that Mistral AI is competitive in the AI market, particularly in Europe, where it can leverage its multilingual capabilities and regulatory compliance. However, it still has ground to cover to match the performance of leading models like GPT-4.\n",
      "\n",
      "**<Mistral AI is a strong competitor in the AI market, particularly in Europe, but still trails behind top performers like GPT-4.>**\n",
      "\n",
      "## Q2: What are the potential regulatory challenges Mistral AI and Microsoft might face due to their partnership?\n",
      "\n",
      "**A:** The partnership has raised concerns among European lawmakers about data privacy and antitrust issues. The European Commission is investigating Microsoft’s agreement with OpenAI and plans to scrutinize the new partnership as well. Members of President Emmanuel Macron’s Renaissance party have criticized the deal for potentially giving a U.S. company access to European users’ data. These regulatory challenges could impact the smooth operation and expansion of Mistral AI and Microsoft’s collaboration.\n",
      "\n",
      "**<Mistral AI and Microsoft face regulatory challenges related to data privacy and antitrust laws, which could impact their collaboration.>**\n",
      "\n",
      "## Q3: How does Microsoft's investment in Mistral AI compare to its other AI investments, and what does this reveal about its strategy?\n",
      "\n",
      "**A:** Microsoft’s $16.3 million investment in Mistral AI is significant but relatively small compared to its $13 billion stake in OpenAI and the investments made by Google and Amazon in Anthropic. This investment strategy suggests that Microsoft is diversifying its AI portfolio by supporting both leading and emerging AI companies. This approach allows Microsoft to hedge its bets and gain access to innovative technologies while expanding its market reach, particularly in Europe.\n",
      "\n",
      "**<Microsoft’s investment strategy reveals a diversified approach to gaining access to innovative AI technologies and expanding market reach.>**\n",
      "\n",
      "# Analysis Report\n",
      "\n",
      "```markdown\n",
      "# Analysis Report on Mistral AI and Microsoft Partnership\n",
      "\n",
      "## Introduction\n",
      "\n",
      "European AI startup Mistral AI has recently unveiled two new large language models, Mistral Large and Mistral Small, and formed a strategic alliance with Microsoft. This report summarizes the key points of the newsletter, addresses thought-provoking questions, and provides a comprehensive analysis of the partnership.\n",
      "\n",
      "## Summary\n",
      "\n",
      "Mistral AI has introduced two new large language models, Mistral Large and Mistral Small, joining their existing Mistral Medium model. Microsoft has invested $16.3 million in the French startup, and the models will be distributed on Microsoft’s Azure platform. The new models are available for free trial and have shown impressive performance on the MMLU benchmark, with Mistral Large outperforming several competitors. The partnership has sparked debate among European lawmakers, with concerns about data privacy and antitrust issues.\n",
      "\n",
      "## Key Points\n",
      "\n",
      "### Model Performance\n",
      "\n",
      "Mistral Large achieved 81.2% on the MMLU benchmark, surpassing models like Anthropic’s Claude 2, Google’s Gemini Pro, and Meta’s Llama 2 70B, but falling short of GPT-4. Mistral Small, optimized for latency and cost, achieved 72.2% on MMLU. Both models are fluent in French, German, Spanish, and Italian, and are trained for function calling and JSON-format output.\n",
      "\n",
      "### Strategic Partnership\n",
      "\n",
      "Microsoft’s investment in Mistral AI is significant but relatively small compared to its other AI investments. The partnership allows Mistral AI to leverage Azure’s computing infrastructure for model training and distribution. It also provides Microsoft with greater access to the European market and Azure customers with a high-performance model tailored to Europe’s regulatory environment.\n",
      "\n",
      "### Regulatory Challenges\n",
      "\n",
      "The partnership has raised concerns among European lawmakers about data privacy and antitrust issues. The European Commission is investigating Microsoft’s agreement with OpenAI and plans to scrutinize the new partnership as well. Members of President Emmanuel Macron’s Renaissance party have criticized the deal for potentially giving a U.S. company access to European users’ data.\n",
      "\n",
      "## Interesting Questions and Analysis\n",
      "\n",
      "### Q1: How does Mistral AI's performance on the MMLU benchmark compare to its competitors, and what are the implications for its market position?\n",
      "\n",
      "**A:** Mistral Large achieved 81.2% on the MMLU benchmark, surpassing models like Anthropic’s Claude 2, Google’s Gemini Pro, and Meta’s Llama 2 70B, but falling short of GPT-4. This indicates that Mistral AI is competitive in the AI market, particularly in Europe, where it can leverage its multilingual capabilities and regulatory compliance. However, it still has ground to cover to match the performance of leading models like GPT-4.\n",
      "\n",
      "**<Mistral AI is a strong competitor in the AI market, particularly in Europe, but still trails behind top performers like GPT-4.>**\n",
      "\n",
      "### Q2: What are the potential regulatory challenges Mistral AI and Microsoft might face due to their partnership?\n",
      "\n",
      "**A:** The partnership has raised concerns among European lawmakers about data privacy and antitrust issues. The European Commission is investigating Microsoft’s agreement with OpenAI and plans to scrutinize the new partnership as well. Members of President Emmanuel Macron’s Renaissance party have criticized the deal for potentially giving a U.S. company access to European users’ data. These regulatory challenges could impact the smooth operation and expansion of Mistral AI and Microsoft’s collaboration.\n",
      "\n",
      "**<Mistral AI and Microsoft face regulatory challenges related to data privacy and antitrust laws, which could impact their collaboration.>**\n",
      "\n",
      "### Q3: How does Microsoft's investment in Mistral AI compare to its other AI investments, and what does this reveal about its strategy?\n",
      "\n",
      "**A:** Microsoft’s $16.3 million investment in Mistral AI is significant but relatively small compared to its $13 billion stake in OpenAI and the investments made by Google and Amazon in Anthropic. This investment strategy suggests that Microsoft is diversifying its AI portfolio by supporting both leading and emerging AI companies. This approach allows Microsoft to hedge its bets and gain access to innovative technologies while expanding its market reach, particularly in Europe.\n",
      "\n",
      "**<Microsoft’s investment strategy reveals a diversified approach to gaining access to innovative AI technologies and expanding market reach.>**\n",
      "\n",
      "## Conclusion\n",
      "\n",
      "The partnership between Mistral AI and Microsoft represents a strategic move for both companies. Mistral AI gains crucial processing power and access to a global customer base, while Microsoft enhances its presence in the European market. However, the collaboration faces regulatory challenges that could impact its success. Despite these hurdles, the alliance demonstrates the potential for innovative AI technologies to thrive in a competitive and regulated environment.\n",
      "```\n"
     ]
    }
   ],
   "source": [
    "response = mistral(prompt)\n",
    "print(response)"
   ]
  },
  {
   "cell_type": "code",
   "execution_count": null,
   "id": "50d2ee9f-e0ce-497f-bad5-e9af8869ebe2",
   "metadata": {},
   "outputs": [],
   "source": []
  }
 ],
 "metadata": {
  "kernelspec": {
   "display_name": "selected_topics",
   "language": "python",
   "name": "python3"
  },
  "language_info": {
   "codemirror_mode": {
    "name": "ipython",
    "version": 3
   },
   "file_extension": ".py",
   "mimetype": "text/x-python",
   "name": "python",
   "nbconvert_exporter": "python",
   "pygments_lexer": "ipython3",
   "version": "3.9.21"
  }
 },
 "nbformat": 4,
 "nbformat_minor": 5
}
